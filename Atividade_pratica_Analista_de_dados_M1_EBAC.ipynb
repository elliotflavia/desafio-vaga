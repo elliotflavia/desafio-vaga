{
  "nbformat": 4,
  "nbformat_minor": 0,
  "metadata": {
    "colab": {
      "provenance": [],
      "authorship_tag": "ABX9TyNwbMa8ZQTvB1QfDH2EGfvU",
      "include_colab_link": true
    },
    "kernelspec": {
      "name": "python3",
      "display_name": "Python 3"
    },
    "language_info": {
      "name": "python"
    }
  },
  "cells": [
    {
      "cell_type": "markdown",
      "metadata": {
        "id": "view-in-github",
        "colab_type": "text"
      },
      "source": [
        "<a href=\"https://colab.research.google.com/github/elliotflavia/desafio-vaga/blob/main/Atividade_pratica_Analista_de_dados_M1_EBAC.ipynb\" target=\"_parent\"><img src=\"https://colab.research.google.com/assets/colab-badge.svg\" alt=\"Open In Colab\"/></a>"
      ]
    },
    {
      "cell_type": "code",
      "execution_count": 1,
      "metadata": {
        "colab": {
          "base_uri": "https://localhost:8080/"
        },
        "id": "ZJzahfo5yPlp",
        "outputId": "6a20bb2c-c9aa-47ae-ac0c-5263d69156f5"
      },
      "outputs": [
        {
          "output_type": "stream",
          "name": "stdout",
          "text": [
            "Olá mundo!\n"
          ]
        }
      ],
      "source": [
        "print (\"Olá mundo!\")"
      ]
    },
    {
      "cell_type": "markdown",
      "source": [
        "![laptop-com-icone-de-codigo-isometrico-de-programa-desenvolvimento-de-software-e-aplicacoes-de-programacao-neon-escuro_39422-971.avif](data:image/avif;base64,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)"
      ],
      "metadata": {
        "id": "8m-yGiPw2HsD"
      }
    },
    {
      "cell_type": "code",
      "source": [
        "# Valores fornecidos na tabela\n",
        "qtd_vendas_19_01 = 3\n",
        "valor_total_vendas_19_01 = 320.52\n",
        "qtd_vendas_20_01 = 5\n",
        "valor_total_vendas_20_01 = 834.47\n",
        "qtd_vendas_23_01 = 5\n",
        "valor_total_vendas_23_01 = 15378.12\n",
        "\n",
        "# (A) Calculando o Ticket Médio para 19/01\n",
        "ticket_medio_19_01 = valor_total_vendas_19_01 / qtd_vendas_19_01\n",
        "\n",
        "# (B) Calculando o Ticket Médio para 20/01\n",
        "ticket_medio_20_01 = valor_total_vendas_20_01 / qtd_vendas_20_01\n",
        "\n",
        "# (C) Calculando o Ticket Médio para 23/01\n",
        "ticket_medio_23_01 = valor_total_vendas_23_01 / qtd_vendas_23_01\n",
        "\n",
        "print(\"(A) Ticket Médio para 19/01:\", ticket_medio_19_01)\n",
        "print(\"(B) Ticket Médio para 20/01:\", ticket_medio_20_01)\n",
        "print(\"(C) Ticket Médio para 23/01:\", ticket_medio_23_01)\n"
      ],
      "metadata": {
        "colab": {
          "base_uri": "https://localhost:8080/"
        },
        "id": "akcAH9he_RWe",
        "outputId": "df87dc48-1e2b-49ad-8fe6-d2e3cf6a0b8a"
      },
      "execution_count": 22,
      "outputs": [
        {
          "output_type": "stream",
          "name": "stdout",
          "text": [
            "(A) Ticket Médio para 19/01: 106.83999999999999\n",
            "(B) Ticket Médio para 20/01: 166.894\n",
            "(C) Ticket Médio para 23/01: 3075.6240000000003\n"
          ]
        }
      ]
    },
    {
      "cell_type": "code",
      "source": [
        "cancao = \"Roda mundo, roda gigante, roda moinho, roda pião.\"\n",
        "resultado1 = cancao.upper()\n",
        "print(resultado1)\n",
        "\n",
        "cancao = \"Roda mundo, roda gigante, roda moinho, roda pião.\"\n",
        "resultado2 = cancao.split(\":\")\n",
        "print(resultado2)\n",
        "\n",
        "cancao = \"Roda mundo, roda gigante, roda moinho, roda pião.\"\n",
        "resultado3 = cancao.replace(\"roda\", \"gira\")\n",
        "print(resultado3)"
      ],
      "metadata": {
        "colab": {
          "base_uri": "https://localhost:8080/"
        },
        "id": "VWY3_TSb2g1f",
        "outputId": "d0c27ce0-f87f-433b-df57-e21a34a2b8cf"
      },
      "execution_count": 14,
      "outputs": [
        {
          "output_type": "stream",
          "name": "stdout",
          "text": [
            "RODA MUNDO, RODA GIGANTE, RODA MOINHO, RODA PIÃO.\n",
            "['Roda mundo, roda gigante, roda moinho, roda pião.']\n",
            "Roda mundo, gira gigante, gira moinho, gira pião.\n"
          ]
        }
      ]
    },
    {
      "cell_type": "code",
      "source": [
        "import re\n",
        "\n",
        "noticia = \"Selic vai a 2,75% e supera expectativas; é a primeira alta em 6 anos.\"\n",
        "\n",
        "padrao_selic = r\"(\\d+,\\d+)%\"\n",
        "match_selic = re.search(padrao_selic, noticia)\n",
        "\n",
        "if match_selic:\n",
        "    selic = float(match_selic.group(1).replace(',', '.'))\n",
        "else:\n",
        "    selic = None\n",
        "\n",
        "padrao_ano = r\"(\\d{4})\"\n",
        "match_ano = re.search(padrao_ano, noticia)\n",
        "\n",
        "if match_ano:\n",
        "    ano = int(match_ano.group(1))\n",
        "else:\n",
        "    ano = None\n",
        "\n",
        "print(\"Taxa Selic:\", selic)\n",
        "print(\"Ano:\", ano)\n",
        "\n"
      ],
      "metadata": {
        "colab": {
          "base_uri": "https://localhost:8080/"
        },
        "id": "sBggU9B-33PC",
        "outputId": "dd2652c1-0568-488d-ee54-ce431db32faa"
      },
      "execution_count": 16,
      "outputs": [
        {
          "output_type": "stream",
          "name": "stdout",
          "text": [
            "Taxa Selic: 2.75\n",
            "Ano: None\n"
          ]
        }
      ]
    },
    {
      "cell_type": "code",
      "source": [
        "a = False\n",
        "b = True\n",
        "\n",
        "x = not a & b\n",
        "\n",
        "print(x)"
      ],
      "metadata": {
        "colab": {
          "base_uri": "https://localhost:8080/"
        },
        "id": "5FKzH59-A7Kc",
        "outputId": "02dbd7db-35ce-4b88-f9a8-764765fed9dd"
      },
      "execution_count": 23,
      "outputs": [
        {
          "output_type": "stream",
          "name": "stdout",
          "text": [
            "True\n"
          ]
        }
      ]
    }
  ]
}